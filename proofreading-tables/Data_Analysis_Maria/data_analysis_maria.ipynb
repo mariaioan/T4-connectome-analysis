{
 "cells": [
  {
   "attachments": {},
   "cell_type": "markdown",
   "metadata": {},
   "source": [
    "# Data Analysis for TM16 postsynaptic partners\n",
    "checking specially for LC10, LC11"
   ]
  },
  {
   "cell_type": "code",
   "execution_count": 40,
   "metadata": {},
   "outputs": [],
   "source": [
    "# import packages\n",
    "import pandas as pd\n",
    "import seaborn as sns\n",
    "import numpy as np\n",
    "import matplotlib.pyplot as plt\n",
    "import scipy\n",
    "from scipy.stats import ttest_ind"
   ]
  },
  {
   "cell_type": "code",
   "execution_count": 59,
   "metadata": {},
   "outputs": [],
   "source": [
    "# load excel file\n",
    "path = r'D:\\connectomics_post\\post_to_tm16_with_labels_left_lobe.csv' # set your working path \n",
    "tm16_post_data= pd.read_csv(path)"
   ]
  },
  {
   "cell_type": "code",
   "execution_count": 60,
   "metadata": {},
   "outputs": [
    {
     "data": {
      "text/plain": [
       "array([720575940616595980, 720575940622207514, 720575940623438813,\n",
       "       720575940624003592, 720575940626803714, 720575940628806659,\n",
       "       720575940630104064, 720575940630528512, 720575940631683087],\n",
       "      dtype=int64)"
      ]
     },
     "execution_count": 60,
     "metadata": {},
     "output_type": "execute_result"
    }
   ],
   "source": [
    "tm16_post_data.presynaptic_ID.unique()"
   ]
  },
  {
   "cell_type": "code",
   "execution_count": 61,
   "metadata": {},
   "outputs": [],
   "source": [
    "# here i change my df to have an extra column with first 3 letters \n",
    "# and change the Tm16s with letters\n",
    "mapping = {\n",
    "720575940616595980: 'A',\n",
    "720575940622207514: 'B',\n",
    "720575940623438813: 'C',\n",
    "720575940624003592: 'D',\n",
    "720575940626803714: 'E',\n",
    "720575940628806659: 'F',\n",
    "720575940630104064: 'G',\n",
    "720575940630528512: 'H',\n",
    "720575940631683087: 'I',\n",
    "}\n",
    "#sorted['postsynaptic_ID'] = sorted['postsynaptic_ID'].map(mapping)\n",
    "tm16_post_data['presynaptic_ID'] = tm16_post_data['presynaptic_ID'].map(mapping)\n",
    "\n",
    "# Define a function to extract the first three letters\n",
    "def extract_first_three_letters(text):\n",
    "    if isinstance(text, str):\n",
    "        return text[:4]\n",
    "    else:\n",
    "        return ''\n",
    "\n",
    "# Apply the function to create the new column\n",
    "tm16_post_data['labels'] = tm16_post_data['Cell_types'].apply(lambda x: extract_first_three_letters(x))\n",
    "\n",
    "\n"
   ]
  },
  {
   "cell_type": "code",
   "execution_count": 62,
   "metadata": {},
   "outputs": [
    {
     "data": {
      "text/html": [
       "<div>\n",
       "<style scoped>\n",
       "    .dataframe tbody tr th:only-of-type {\n",
       "        vertical-align: middle;\n",
       "    }\n",
       "\n",
       "    .dataframe tbody tr th {\n",
       "        vertical-align: top;\n",
       "    }\n",
       "\n",
       "    .dataframe thead th {\n",
       "        text-align: right;\n",
       "    }\n",
       "</style>\n",
       "<table border=\"1\" class=\"dataframe\">\n",
       "  <thead>\n",
       "    <tr style=\"text-align: right;\">\n",
       "      <th></th>\n",
       "      <th>postsynaptic_ID</th>\n",
       "      <th>counts</th>\n",
       "      <th>presynaptic_ID</th>\n",
       "      <th>Cell_types</th>\n",
       "      <th>labels</th>\n",
       "    </tr>\n",
       "  </thead>\n",
       "  <tbody>\n",
       "    <tr>\n",
       "      <th>0</th>\n",
       "      <td>720575940622137101</td>\n",
       "      <td>39</td>\n",
       "      <td>A</td>\n",
       "      <td>NaN</td>\n",
       "      <td></td>\n",
       "    </tr>\n",
       "    <tr>\n",
       "      <th>1</th>\n",
       "      <td>720575940613297066</td>\n",
       "      <td>25</td>\n",
       "      <td>A</td>\n",
       "      <td>NaN</td>\n",
       "      <td></td>\n",
       "    </tr>\n",
       "    <tr>\n",
       "      <th>2</th>\n",
       "      <td>720575940635198565</td>\n",
       "      <td>17</td>\n",
       "      <td>A</td>\n",
       "      <td>NaN</td>\n",
       "      <td></td>\n",
       "    </tr>\n",
       "    <tr>\n",
       "      <th>3</th>\n",
       "      <td>720575940624962035</td>\n",
       "      <td>16</td>\n",
       "      <td>A</td>\n",
       "      <td>NaN</td>\n",
       "      <td></td>\n",
       "    </tr>\n",
       "    <tr>\n",
       "      <th>4</th>\n",
       "      <td>720575940631870824</td>\n",
       "      <td>16</td>\n",
       "      <td>A</td>\n",
       "      <td>NaN</td>\n",
       "      <td></td>\n",
       "    </tr>\n",
       "    <tr>\n",
       "      <th>...</th>\n",
       "      <td>...</td>\n",
       "      <td>...</td>\n",
       "      <td>...</td>\n",
       "      <td>...</td>\n",
       "      <td>...</td>\n",
       "    </tr>\n",
       "    <tr>\n",
       "      <th>1959</th>\n",
       "      <td>720575940619870622</td>\n",
       "      <td>3</td>\n",
       "      <td>I</td>\n",
       "      <td>LC16/6_R-like, targets optic glomerulus of lob...</td>\n",
       "      <td>LC16</td>\n",
       "    </tr>\n",
       "    <tr>\n",
       "      <th>1960</th>\n",
       "      <td>720575940592451178</td>\n",
       "      <td>3</td>\n",
       "      <td>I</td>\n",
       "      <td>NaN</td>\n",
       "      <td></td>\n",
       "    </tr>\n",
       "    <tr>\n",
       "      <th>1961</th>\n",
       "      <td>720575940605906102</td>\n",
       "      <td>3</td>\n",
       "      <td>I</td>\n",
       "      <td>NaN</td>\n",
       "      <td></td>\n",
       "    </tr>\n",
       "    <tr>\n",
       "      <th>1962</th>\n",
       "      <td>720575940611600819</td>\n",
       "      <td>3</td>\n",
       "      <td>I</td>\n",
       "      <td>NaN</td>\n",
       "      <td></td>\n",
       "    </tr>\n",
       "    <tr>\n",
       "      <th>1963</th>\n",
       "      <td>720575940626963352</td>\n",
       "      <td>3</td>\n",
       "      <td>I</td>\n",
       "      <td>NaN</td>\n",
       "      <td></td>\n",
       "    </tr>\n",
       "  </tbody>\n",
       "</table>\n",
       "<p>1964 rows × 5 columns</p>\n",
       "</div>"
      ],
      "text/plain": [
       "         postsynaptic_ID  counts presynaptic_ID  \\\n",
       "0     720575940622137101      39              A   \n",
       "1     720575940613297066      25              A   \n",
       "2     720575940635198565      17              A   \n",
       "3     720575940624962035      16              A   \n",
       "4     720575940631870824      16              A   \n",
       "...                  ...     ...            ...   \n",
       "1959  720575940619870622       3              I   \n",
       "1960  720575940592451178       3              I   \n",
       "1961  720575940605906102       3              I   \n",
       "1962  720575940611600819       3              I   \n",
       "1963  720575940626963352       3              I   \n",
       "\n",
       "                                             Cell_types labels  \n",
       "0                                                   NaN         \n",
       "1                                                   NaN         \n",
       "2                                                   NaN         \n",
       "3                                                   NaN         \n",
       "4                                                   NaN         \n",
       "...                                                 ...    ...  \n",
       "1959  LC16/6_R-like, targets optic glomerulus of lob...   LC16  \n",
       "1960                                                NaN         \n",
       "1961                                                NaN         \n",
       "1962                                                NaN         \n",
       "1963                                                NaN         \n",
       "\n",
       "[1964 rows x 5 columns]"
      ]
     },
     "execution_count": 62,
     "metadata": {},
     "output_type": "execute_result"
    }
   ],
   "source": [
    "tm16_post_data"
   ]
  },
  {
   "cell_type": "code",
   "execution_count": 77,
   "metadata": {},
   "outputs": [
    {
     "data": {
      "text/plain": [
       "3"
      ]
     },
     "execution_count": 77,
     "metadata": {},
     "output_type": "execute_result"
    }
   ],
   "source": [
    "tm16_post_data.counts.min()"
   ]
  },
  {
   "cell_type": "code",
   "execution_count": 87,
   "metadata": {},
   "outputs": [],
   "source": [
    "# exclude the unidentified neurons\n",
    "def heatmap(data_tm9):\n",
    "    unique_partners = data_tm9['labels'].value_counts()\n",
    "    sorted_data = data_tm9.sort_values(by='labels', key=lambda x: x.map(unique_partners), ascending=False)\n",
    "    \n",
    "    sorted_neurons = sorted_data['labels'].unique()\n",
    "    \n",
    "    data = sorted_data.pivot_table(index=\"presynaptic_ID\", columns=\"labels\", values=\"counts\", aggfunc='sum')\n",
    "    sorted_neurons = [name for name in sorted_neurons if name in data.columns]\n",
    "    data = data[sorted_neurons]\n",
    "    \n",
    "    max_count = data_tm9.counts.max()  # Get the maximum value from 'counts' in the pivot table\n",
    "    \n",
    "    # Exclude the first column from the heatmap\n",
    "    excluded_column = data.columns[0]\n",
    "    data_without_first_column = data.drop(columns=excluded_column)\n",
    "    \n",
    "    ax = sns.heatmap(data_without_first_column, cmap=sns.cm.rocket_r, xticklabels=True, vmax=max_count)\n",
    "    \n",
    "    plt.xticks(ticks=range(len(sorted_neurons)-1), labels=sorted_neurons[1:], rotation=90)  # Exclude the first label\n",
    "\n",
    "    print(sorted_neurons)\n",
    "    return ax\n"
   ]
  },
  {
   "cell_type": "code",
   "execution_count": 86,
   "metadata": {},
   "outputs": [
    {
     "data": {
      "image/png": "[encoded data removed]",
      "text/plain": [
       "<Figure size 640x480 with 1 Axes>"
      ]
     },
     "metadata": {},
     "output_type": "display_data"
    },
    {
     "data": {
      "image/png": "[encoded data removed]",
      "text/plain": [
       "<Figure size 2500x800 with 2 Axes>"
      ]
     },
     "metadata": {},
     "output_type": "display_data"
    },
    {
     "name": "stdout",
     "output_type": "stream",
     "text": [
      "['', 'Tm9,', 'LC10', 'Tran', 'LPLC', 'Puta', 'LC13', 'VPNp', 'Dm12', 'Medu', 'LC16', 'puta', 'Dist', 'VPNl', 'LC15', 'LC11', 'LHl4', 'Lami', 'VLPp', 'LC6_', 'Lobu', 'Prox', 'T3', 'LT51', 'MeMe', 'MeTu', 'OA-A', 'LPi,', 'not ', 'LC12', 'SLPp', 'LC4_', 'TmY1', 'uncl', 'LC21', 'VLPa', 'T2, ']\n"
     ]
    }
   ],
   "source": [
    "plt.title('Heatmap of postsynaptic partners of Tm16s')\n",
    "plt.figure(figsize = (25,8))\n",
    "fig = heatmap(tm16_post_data)\n",
    "figure = fig.get_figure()    \n",
    "figure.savefig('Heatmap of postsynaptic partners of Tm16s.png')\n",
    "plt.show()"
   ]
  },
  {
   "cell_type": "code",
   "execution_count": 29,
   "metadata": {},
   "outputs": [],
   "source": [
    "# old one that works\n",
    "def heatmap(data_tm9):\n",
    "    unique_partners= data_tm9['postsynaptic_ID'].value_counts()\n",
    "    sorted = data_tm9.sort_values(by ='postsynaptic_ID' , key = lambda x: x.map(unique_partners), ascending=False) \n",
    "\n",
    "\n",
    "    sorted_neurons = sorted['postsynaptic_ID'].unique()\n",
    "    \n",
    "    data = sorted.pivot_table(index = \"presynaptic_ID\", columns = \"postsynaptic_ID\", values = \"counts\",  aggfunc='sum')\n",
    "    sorted_neurons = [name for name in sorted_neurons if name in data.columns]\n",
    "    data = data[sorted_neurons]\n",
    "    ax = sns.heatmap(data, cmap = sns.cm.rocket_r, xticklabels=True)\n",
    "    plt.xticks(ticks = range(len(sorted_neurons)), labels = sorted_neurons, rotation = 90) # with this I dictate the order of the x labels appearance\n",
    "    #plt.yticks(ticks = range(len(data.index)), labels = data.index, rotation = 0) \n",
    "    #plt.title(\"Tm9s with their Presynaptic Partners based on synapse strength\")\n",
    "    plt.show()\n",
    "    print(sorted_neurons)\n",
    "    #write function for this? lol\n",
    "    return(ax)"
   ]
  },
  {
   "cell_type": "code",
   "execution_count": null,
   "metadata": {},
   "outputs": [],
   "source": []
  }
 ],
 "metadata": {
  "kernelspec": {
   "display_name": "connectome_analysis",
   "language": "python",
   "name": "python3"
  },
  "language_info": {
   "codemirror_mode": {
    "name": "ipython",
    "version": 3
   },
   "file_extension": ".py",
   "mimetype": "text/x-python",
   "name": "python",
   "nbconvert_exporter": "python",
   "pygments_lexer": "ipython3",
   "version": "3.11.3"
  },
  "orig_nbformat": 4
 },
 "nbformat": 4,
 "nbformat_minor": 2
}
