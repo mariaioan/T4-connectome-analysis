{
 "cells": [
  {
   "cell_type": "markdown",
   "id": "b982f74c",
   "metadata": {},
   "source": [
    "# Mesh plotter - visualizations"
   ]
  },
  {
   "cell_type": "markdown",
   "id": "42f72677",
   "metadata": {},
   "source": [
    "This notebook contains code for visualizing neurons, connections and any XYZ dots in neuropil volums"
   ]
  },
  {
   "cell_type": "markdown",
   "id": "47fcda9d",
   "metadata": {},
   "source": [
    "## A) Loading data and pre-analysis"
   ]
  },
  {
   "cell_type": "code",
   "execution_count": 2,
   "id": "98580e8c",
   "metadata": {},
   "outputs": [],
   "source": [
    "#Importing packages\n",
    "import navis\n",
    "import fafbseg\n",
    "from fafbseg import flywire\n",
    "import numpy as np\n",
    "import pandas as pd\n",
    "import seaborn as sns\n",
    "import matplotlib\n",
    "import matplotlib.pyplot as plt\n",
    "from scipy.stats import pearsonr\n",
    "import os\n",
    "import math \n",
    "from caveclient import CAVEclient\n",
    "client = CAVEclient('flywire_fafb_production')\n",
    "\n",
    "#%% Plots settings\n",
    "font = {'family' : 'arial',\n",
    "        'weight' : 'normal',\n",
    "        'size'   : 12}\n",
    "axes = {'labelsize': 8, 'titlesize': 8}\n",
    "ticks = {'labelsize': 4}\n",
    "legend = {'fontsize': 8}\n",
    "plt.rc('font', **font)\n",
    "plt.rc('axes', **axes)\n",
    "plt.rc('xtick', **ticks)\n",
    "plt.rc('ytick', **ticks)\n",
    "\n",
    "cm = 1/2.54  # centimeters in inches\n",
    "save_figures = True\n",
    "\n"
   ]
  },
  {
   "cell_type": "code",
   "execution_count": 4,
   "id": "26cc92a1",
   "metadata": {},
   "outputs": [],
   "source": [
    "############################################# USER INFORMATION ################################################\n",
    "###############################################################################################################\n",
    "#General analysis information (user defined)\n",
    "\n",
    "\n",
    "#Count coverage\n",
    "desired_coverage = 80 # in percent\n",
    "plus_minus = 5 # in percent\n",
    "\n",
    "#Synaptic counts\n",
    "desired_count = 3 # minimun number of synapses to consider in the analysis\n",
    "syn_thr_min = 1 # minimun number of synaptic contacts to be considered as relevant for the analysis\n",
    "num_type_copies_min = 2 #Number for neuron copies relevant for the low-synapses partners\n",
    "\n",
    "#Neuron counts\n",
    "desired_quantile = 0.8 # selected quantile for neuron counts\n",
    "\n",
    "#Main presynaptic partner\n",
    "last_input_neuron = 1000 # last input to be considered in summary dataframes across columns\n",
    "\n",
    "#Data set \n",
    "dataset_name = 'FAFB'\n",
    "neuron_of_interest = 'Tm9' \n",
    "instance_id_column = 'optic_lobe_id' # 'optic_lobe_id', 'column_id'\n",
    "\n",
    "#Path and file\n",
    "dataPath =  r'D:\\Connectomics-Data\\FlyWire\\Excels\\drive-data-sets'\n",
    "fileDate = '20230615'\n",
    "fileName = f'Tm9_neurons_input_count_ME_L_{fileDate}.xlsx'\n",
    "fileName_database = f'Tm9 proofreadings_{fileDate}.xlsx'"
   ]
  },
  {
   "cell_type": "code",
   "execution_count": 5,
   "id": "2887cfd3",
   "metadata": {},
   "outputs": [
    {
     "name": "stdout",
     "output_type": "stream",
     "text": [
      "The following column ids (n=129) are part of the analysis: \n",
      " ['L100', 'L105', 'L112', 'L115', 'L118', 'L120', 'L129', 'L130', 'L131', 'L132', 'L139', 'L140', 'L148', 'L15', 'L150', 'L151', 'L152', 'L157', 'L16', 'L164', 'L17', 'L170', 'L174', 'L178', 'L181', 'L182', 'L184', 'L185', 'L19', 'L191', 'L199', 'L207', 'L21', 'L210', 'L216', 'L24', 'L251', 'L258', 'L26', 'L263', 'L267', 'L270', 'L28', 'L29', 'L297', 'L30', 'L31', 'L32', 'L329', 'L33', 'L336', 'L34', 'L345', 'L347', 'L35', 'L351', 'L353', 'L358', 'L36', 'L360', 'L361', 'L365', 'L37', 'L370', 'L371', 'L386', 'L394', 'L398', 'L402', 'L406', 'L407', 'L409', 'L419', 'L42', 'L456', 'L46', 'L48', 'L49', 'L492', 'L503', 'L53', 'L530', 'L531', 'L547', 'L549', 'L55', 'L552', 'L559', 'L567', 'L586', 'L59', 'L590', 'L591', 'L592', 'L593', 'L606', 'L607', 'L61', 'L624', 'L627', 'L628', 'L637', 'L64', 'L644', 'L646', 'L647', 'L657', 'L658', 'L659', 'L66', 'L665', 'L668', 'L67', 'L676', 'L680', 'L682', 'L683', 'L69', 'L71', 'L73', 'L77', 'L81', 'L82', 'L83', 'L85', 'L87', 'L89', 'L91', 'L96']\n",
      "               cumulative_column_percent\n",
      "instance_post                           \n",
      "Tm9::L100                          83.07\n",
      "Tm9::L105                          87.52\n",
      "Tm9::L112                          74.00\n",
      "Tm9::L115                          64.70\n",
      "Tm9::L118                          81.33\n",
      "...                                  ...\n",
      "Tm9::L85                           86.56\n",
      "Tm9::L87                           78.79\n",
      "Tm9::L89                           70.01\n",
      "Tm9::L91                           80.30\n",
      "Tm9::L96                           80.16\n",
      "\n",
      "[120 rows x 1 columns]\n",
      "Coverage (%) for syn >= 3\n",
      "The desired 3 have a desired % coverage average across columns = 75.44: \n"
     ]
    }
   ],
   "source": [
    "#%% \n",
    "################################################## PRE-ANALYSIS ###############################################\n",
    "###############################################################################################################\n",
    "\n",
    "#Loading FAFB data from our data base (excel file)\n",
    "filePath = os.path.join(dataPath,fileName)\n",
    "df = pd.read_excel(filePath)\n",
    "\n",
    "#Loading FAFB data from our data base (excel file)\n",
    "filePath = os.path.join(dataPath,fileName_database)\n",
    "database_df = pd.read_excel(filePath)\n",
    "\n",
    "#Dropping rows:\n",
    "if df[\"postsynaptic_ID\"][0] == 'asdf': #Dropping the fisrt row ('asdf' was added as a walk-around to set that column values as type str)\n",
    "    df = df.iloc[1: , :]\n",
    "    df.reset_index(inplace=True,drop=True)\n",
    "\n",
    "if database_df[\"seg_id\"][0] == 'asdf': #Dropping the fisrt row ('asdf' was added as a walk-around to set that column values as type str)\n",
    "    database_df = database_df.iloc[1: , :]\n",
    "    database_df.reset_index(inplace=True,drop=True)\n",
    "\n",
    "if 'INPUTS PROOFREAD' in df.values: # Removing unnecessary rows ment for human use only\n",
    "    df = df[df['presynaptic_ID']!= 'INPUTS PROOFREAD'].copy() # Getting rid of info rows with no connectomics data\n",
    "\n",
    "if 'N.I.' in df.values: # Removing non identified (N.I.) inputs\n",
    "    df = df[df['symbol']!= 'N.I.'].copy() # Getting rid of info rows with no connectomics data\n",
    "\n",
    "#Adjusting column names to meet the naming of the FIB25 data sets (interesting for future use or comparison)\n",
    "#Creating new columns\n",
    "df['instance_pre'] = df['symbol'] + '::' + df[instance_id_column]\n",
    "df['instance_post'] = neuron_of_interest + '::' + df[instance_id_column]\n",
    "df['type_post'] = neuron_of_interest\n",
    "df['counts']= df['counts'].astype(int)\n",
    "#Sorting rows based on count synapse number\n",
    "df = df.groupby(['instance_post']).apply(lambda x: x.sort_values(['counts'], ascending = False)).reset_index(drop=True)\n",
    "#Ranking the neurons\n",
    "df['rank'] = df.groupby(['instance_post']).cumcount().tolist()\n",
    "#Renaming columns\n",
    "df.rename(columns={'presynaptic_ID':'bodyId_pre', 'counts':'W', 'postsynaptic_ID':'bodyId_post','symbol':'type_pre'}, inplace = True)\n",
    "#Keeping only columns of interest\n",
    "cols_to_keep = ['rank','patch_id','column_id','optic_lobe_id','detached_lamina (Y/N)','healthy_L3 (Y/N)','instance_pre','type_pre','bodyId_pre','instance_post','type_post','bodyId_post','W']\n",
    "df = df[cols_to_keep].copy()\n",
    "#Filtering out faulty data\n",
    "df = df[df['detached_lamina (Y/N)'] == 'N'].copy() #Keep only the columns below a healthy lamina\n",
    "df = df[df['healthy_L3 (Y/N)'] != 'N'].copy() #Discard the onces with clear unhealthy L3\n",
    "\n",
    "#Calculating relative counts (weigths)\n",
    "df['column_percent'] = round((df['W'] / df.groupby('instance_post')['W'].transform('sum'))*100,2)\n",
    "df['cumulative_column_percent'] = df.groupby('instance_post')['column_percent'].cumsum()\n",
    "\n",
    "#Printing useful information\n",
    "id_column = df[instance_id_column].unique().tolist()\n",
    "print(f'The following column ids (n={len(id_column)}) are part of the analysis: \\n {id_column}')\n",
    "\n",
    "\n",
    "desired_count_df = df[df['W']== desired_count].copy()\n",
    "last_percent_with_desired_count = pd.DataFrame(desired_count_df.groupby(['instance_post'])['cumulative_column_percent'].max()) #Covarage across columns per the desired_count\n",
    "print(last_percent_with_desired_count)\n",
    "print(f'Coverage (%) for syn >= {desired_count}')\n",
    "print(f\"The desired {desired_count} have a desired % coverage average across columns = {round(last_percent_with_desired_count['cumulative_column_percent'].mean(),2)}: \")"
   ]
  },
  {
   "cell_type": "markdown",
   "id": "4c758234",
   "metadata": {},
   "source": [
    "## B) Plotting meshes and XYZ coordinates"
   ]
  },
  {
   "cell_type": "code",
   "execution_count": 6,
   "id": "6b3a0dc3",
   "metadata": {},
   "outputs": [
    {
     "data": {
      "application/vnd.jupyter.widget-view+json": {
       "model_id": "",
       "version_major": 2,
       "version_minor": 0
      },
      "text/plain": [
       "Fetching:   0%|          | 0/129 [00:00<?, ?it/s]"
      ]
     },
     "metadata": {},
     "output_type": "display_data"
    },
    {
     "name": "stdout",
     "output_type": "stream",
     "text": [
      "- Got all neuron meshes -\n"
     ]
    }
   ],
   "source": [
    "#Getting the neuron´s meshes\n",
    "root_ids = df['bodyId_post'].unique().tolist()\n",
    "m_all = flywire.get_mesh_neuron(root_ids)\n",
    "print('- Got all neuron meshes -')"
   ]
  },
  {
   "cell_type": "code",
   "execution_count": 22,
   "id": "4bf8756d",
   "metadata": {},
   "outputs": [],
   "source": [
    "#Gettting the center point in specific neuropile from database\n",
    "xyz_neuropil = 'XYZ-ME'\n",
    "xyz_df = database_df[database_df['seg_id'].isin(root_ids)].copy()\n",
    "xyz_pre = xyz_df[xyz_neuropil].tolist()\n",
    "# Split each string by comma and convert the elements to floats\n",
    "xyz_pre_arr = np.array([list(map(float, s.split(','))) for s in xyz_pre])"
   ]
  },
  {
   "cell_type": "code",
   "execution_count": 9,
   "id": "3fdd9a03",
   "metadata": {},
   "outputs": [
    {
     "data": {
      "application/vnd.jupyter.widget-view+json": {
       "model_id": "6c3dc78d6cee420f81bf5c2947ebac48",
       "version_major": 2,
       "version_minor": 0
      },
      "text/plain": [
       "Output()"
      ]
     },
     "metadata": {},
     "output_type": "display_data"
    }
   ],
   "source": [
    "# Plotting\n",
    "fig = navis.plot3d([m_all, xyz_pre_arr], backend='k3d', \n",
    "                   scatter_kws ={\"color\":'green', \"size\":20})"
   ]
  },
  {
   "cell_type": "code",
   "execution_count": 12,
   "id": "bc46282c",
   "metadata": {},
   "outputs": [],
   "source": [
    "plt.show(fig)"
   ]
  },
  {
   "cell_type": "code",
   "execution_count": 13,
   "id": "21dfd70b",
   "metadata": {},
   "outputs": [
    {
     "data": {
      "application/vnd.jupyter.widget-view+json": {
       "model_id": "e6b8b9cf31ad4bc090d6ebc044ebc9d7",
       "version_major": 2,
       "version_minor": 0
      },
      "text/plain": [
       "Output()"
      ]
     },
     "metadata": {},
     "output_type": "display_data"
    }
   ],
   "source": [
    "navis.plot3d([m_all, xyz_pre_arr], backend='k3d', \n",
    "                   scatter_kws ={\"color\":'green', \"size\":20})"
   ]
  },
  {
   "cell_type": "code",
   "execution_count": 34,
   "id": "0bfa492e",
   "metadata": {},
   "outputs": [
    {
     "data": {
      "image/png": "[encoded data removed]",
      "text/plain": [
       "<Figure size 432x288 with 1 Axes>"
      ]
     },
     "metadata": {
      "needs_background": "light"
     },
     "output_type": "display_data"
    }
   ],
   "source": [
    "OL_R = flywire.get_neuropil_volumes(['ME_R','LO_R','LOP_R']) # ['LOP_L', 'LOP_R'], ['LO_R'], ['ME_R']\n",
    "xyz_pre_arr_new = xyz_pre_arr * np.array([4, 4, 40])\n",
    "\n",
    "fig = plt.figure()\n",
    "ax = fig.add_subplot(111, projection='3d')\n",
    "\n",
    "ax.scatter(xyz_pre_arr_new[:, 0], xyz_pre_arr_new[:, 1], xyz_pre_arr_new[:, 2], s=10)  # Adjust the size (s) as desired\n",
    "\n",
    "navis.plot2d([OL_R], method='3d_complex', ax=ax)\n",
    "\n",
    "plt.show()"
   ]
  },
  {
   "cell_type": "code",
   "execution_count": null,
   "id": "111763d8",
   "metadata": {},
   "outputs": [],
   "source": []
  }
 ],
 "metadata": {
  "kernelspec": {
   "display_name": "Python 3 (ipykernel)",
   "language": "python",
   "name": "python3"
  },
  "language_info": {
   "codemirror_mode": {
    "name": "ipython",
    "version": 3
   },
   "file_extension": ".py",
   "mimetype": "text/x-python",
   "name": "python",
   "nbconvert_exporter": "python",
   "pygments_lexer": "ipython3",
   "version": "3.7.4"
  }
 },
 "nbformat": 4,
 "nbformat_minor": 5
}
