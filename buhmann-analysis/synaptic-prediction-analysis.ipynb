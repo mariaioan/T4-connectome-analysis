{
 "cells": [
  {
   "cell_type": "markdown",
   "id": "4c1df150",
   "metadata": {},
   "source": [
    "# Analysis of automatic synaptic prediction"
   ]
  },
  {
   "cell_type": "markdown",
   "id": "0d04484b",
   "metadata": {},
   "source": [
    "The automatic synaptic prediction was done by an algorithm published in Buhmann et al., and retrieved from FlyWire using the FAFBseq-py package."
   ]
  },
  {
   "cell_type": "code",
   "execution_count": 105,
   "id": "8390717e",
   "metadata": {},
   "outputs": [],
   "source": [
    "#Importing packages\n",
    "#import navis\n",
    "import fafbseg\n",
    "#from fafbseg import flywire\n",
    "import numpy as np\n",
    "import pandas as pd\n",
    "import seaborn as sns\n",
    "import matplotlib.pyplot as plt\n",
    "import os\n",
    "#from caveclient import CAVEclient\n",
    "#from visualizations.helpers.synapse_queries import combine_xyz, separate_xyz, synapse_count\n",
    "\n",
    "#client = CAVEclient('flywire_fafb_production')"
   ]
  },
  {
   "cell_type": "code",
   "execution_count": 107,
   "id": "40dd9dbb",
   "metadata": {},
   "outputs": [],
   "source": [
    "#Plots settings\n",
    "\n",
    "font = {'family' : 'arial',\n",
    "        'weight' : 'normal',\n",
    "        'size'   : 12}\n",
    "axes = {'labelsize': 16, 'titlesize': 16}\n",
    "ticks = {'labelsize': 14}\n",
    "legend = {'fontsize': 14}\n",
    "plt.rc('font', **font)\n",
    "plt.rc('axes', **axes)\n",
    "plt.rc('xtick', **ticks)\n",
    "plt.rc('ytick', **ticks)\n",
    "\n",
    "cm = 1/2.54  # centimeters in inches"
   ]
  },
  {
   "cell_type": "markdown",
   "id": "009e943a",
   "metadata": {},
   "source": [
    "## A) Proofreading predicted synapses via annotations"
   ]
  },
  {
   "cell_type": "code",
   "execution_count": null,
   "id": "2d3f8d6a",
   "metadata": {},
   "outputs": [],
   "source": [
    "# For debuggin purposes\n",
    "#URL = 'https://ngl.flywire.ai/?json_url=https://global.daf-apis.com/nglstate/api/v1/5574105810075648'# OLD URL\n",
    "#URL = 'https://ngl.flywire.ai/?json_url=https://global.daf-apis.com/nglstate/api/v1/6667315345096704'# UPDATED URL\n",
    "URL = 'https://ngl.flywire.ai/?json_url=https://global.daf-apis.com/nglstate/api/v1/6516888544739328' # No segments in the dict\n",
    "dict_URL = fafbseg.flywire.decode_url(URL)"
   ]
  },
  {
   "cell_type": "code",
   "execution_count": 219,
   "id": "f2989a2e",
   "metadata": {},
   "outputs": [],
   "source": [
    "# Manually loading the URL containing synapses as annotations and notes in each\n",
    "\n",
    "URL = 'https://ngl.flywire.ai/?json_url=https://global.daf-apis.com/nglstate/api/v1/4934928156327936' # All FN checked here\n",
    "dict_URL = fafbseg.flywire.decode_url(URL)"
   ]
  },
  {
   "cell_type": "code",
   "execution_count": 245,
   "id": "37b23d1c",
   "metadata": {},
   "outputs": [],
   "source": [
    "URL_ls = ['https://ngl.flywire.ai/?json_url=https://global.daf-apis.com/nglstate/api/v1/4934928156327936', 'https://ngl.flywire.ai/?json_url=https://global.daf-apis.com/nglstate/api/v1/4571711703875584']"
   ]
  },
  {
   "cell_type": "code",
   "execution_count": 246,
   "id": "255c7320",
   "metadata": {},
   "outputs": [
    {
     "data": {
      "text/plain": [
       "['https://ngl.flywire.ai/?json_url=https://global.daf-apis.com/nglstate/api/v1/4934928156327936',\n",
       " 'https://ngl.flywire.ai/?json_url=https://global.daf-apis.com/nglstate/api/v1/4571711703875584']"
      ]
     },
     "execution_count": 246,
     "metadata": {},
     "output_type": "execute_result"
    }
   ],
   "source": [
    "URL_ls"
   ]
  },
  {
   "cell_type": "markdown",
   "id": "e9697ad6",
   "metadata": {},
   "source": [
    "### 1. Loading URLs from excell file"
   ]
  },
  {
   "cell_type": "code",
   "execution_count": 232,
   "id": "8b9f6989",
   "metadata": {},
   "outputs": [],
   "source": [
    "# Loading the URLs from an excel file\n",
    "\n",
    "# Choose path and file\n",
    "dataPath = r'C:\\Users\\sebas\\Downloads'\n",
    "fileDate = '20230222'\n",
    "fileName = f'All_Tm9_neurons_input_count_ME_R_{fileDate}.xlsx'\n",
    "filePath = os.path.join(dataPath,fileName)\n",
    "df = pd.read_excel(filePath)\n"
   ]
  },
  {
   "cell_type": "code",
   "execution_count": 233,
   "id": "647b15d5",
   "metadata": {},
   "outputs": [],
   "source": [
    "# Filtering\n",
    "URL_df = df[df['Synapses proofread (Y/N)'] == 'Y'].copy() # To take only links with proofread synapses"
   ]
  },
  {
   "cell_type": "code",
   "execution_count": 234,
   "id": "af5844fc",
   "metadata": {},
   "outputs": [],
   "source": [
    "#Extracting URLs in a list\n",
    "URL_ls = URL_df ['URL buhmann postsynapses (annotate only as: true, false or false negative)']\n",
    "URL_ls = URL_ls[URL_ls.notnull()] # Getting rid of NaNs \n"
   ]
  },
  {
   "cell_type": "markdown",
   "id": "9c76f416",
   "metadata": {},
   "source": [
    "### 2. Extracting annotations' labels / comments"
   ]
  },
  {
   "cell_type": "code",
   "execution_count": 247,
   "id": "c3f0159f",
   "metadata": {},
   "outputs": [],
   "source": [
    "# Extracting points and labels/descriptions\n",
    "points = []\n",
    "descriptions = []\n",
    "segment_ids = []\n",
    "faulty_URLs = []\n",
    "\n",
    "for URL in URL_ls:\n",
    "    dict_URL = fafbseg.flywire.decode_url(URL)\n",
    "    for ann in dict_URL['annotations']:\n",
    "        if 'point' in ann.keys():\n",
    "            try: \n",
    "                segment_ids.append(ann['segments'])\n",
    "            except:# dealing with faulty URLs with no data inside\n",
    "                faulty_URLs.append(URL)\n",
    "                continue\n",
    "            try:\n",
    "                descriptions.append(ann['description'])\n",
    "            except: # dealing with faulty URLs with no data inside\n",
    "                descriptions.append('NO DESCRIPTION YET')\n",
    "        \n",
    "            points.append(ann['point'])\n",
    "            \n",
    "# Splitting in pre and post IDs\n",
    "pre = []\n",
    "post = []\n",
    "for pair in segment_ids:\n",
    "    pre.append(pair[0])\n",
    "    post.append(pair[1])   \n",
    "    \n",
    "#  len([d for d in descriptions if d.lower() == 'true' or d.lower() == 'true\\n' ]) # Brief count of true synapses"
   ]
  },
  {
   "cell_type": "code",
   "execution_count": 248,
   "id": "8dddbe36",
   "metadata": {},
   "outputs": [
    {
     "data": {
      "text/html": [
       "<div>\n",
       "<style scoped>\n",
       "    .dataframe tbody tr th:only-of-type {\n",
       "        vertical-align: middle;\n",
       "    }\n",
       "\n",
       "    .dataframe tbody tr th {\n",
       "        vertical-align: top;\n",
       "    }\n",
       "\n",
       "    .dataframe thead th {\n",
       "        text-align: right;\n",
       "    }\n",
       "</style>\n",
       "<table border=\"1\" class=\"dataframe\">\n",
       "  <thead>\n",
       "    <tr style=\"text-align: right;\">\n",
       "      <th></th>\n",
       "      <th>post_pt_position</th>\n",
       "      <th>proofread_label</th>\n",
       "      <th>pre_id</th>\n",
       "      <th>post_id</th>\n",
       "    </tr>\n",
       "  </thead>\n",
       "  <tbody>\n",
       "    <tr>\n",
       "      <th>0</th>\n",
       "      <td>[66659, 85714, 5406]</td>\n",
       "      <td>true\\n</td>\n",
       "      <td>720575940659388801</td>\n",
       "      <td>720575940627738884</td>\n",
       "    </tr>\n",
       "    <tr>\n",
       "      <th>1</th>\n",
       "      <td>[66885, 85749, 5367]</td>\n",
       "      <td>true\\n</td>\n",
       "      <td>720575940659388801</td>\n",
       "      <td>720575940627738884</td>\n",
       "    </tr>\n",
       "    <tr>\n",
       "      <th>2</th>\n",
       "      <td>[67681, 86266, 5435]</td>\n",
       "      <td>true</td>\n",
       "      <td>720575940659388801</td>\n",
       "      <td>720575940627738884</td>\n",
       "    </tr>\n",
       "    <tr>\n",
       "      <th>3</th>\n",
       "      <td>[67124, 86454, 5390]</td>\n",
       "      <td>true</td>\n",
       "      <td>720575940659388801</td>\n",
       "      <td>720575940627738884</td>\n",
       "    </tr>\n",
       "    <tr>\n",
       "      <th>4</th>\n",
       "      <td>[67664, 86251, 5434]</td>\n",
       "      <td>true</td>\n",
       "      <td>720575940659388801</td>\n",
       "      <td>720575940627738884</td>\n",
       "    </tr>\n",
       "  </tbody>\n",
       "</table>\n",
       "</div>"
      ],
      "text/plain": [
       "       post_pt_position proofread_label              pre_id  \\\n",
       "0  [66659, 85714, 5406]          true\\n  720575940659388801   \n",
       "1  [66885, 85749, 5367]          true\\n  720575940659388801   \n",
       "2  [67681, 86266, 5435]            true  720575940659388801   \n",
       "3  [67124, 86454, 5390]            true  720575940659388801   \n",
       "4  [67664, 86251, 5434]            true  720575940659388801   \n",
       "\n",
       "              post_id  \n",
       "0  720575940627738884  \n",
       "1  720575940627738884  \n",
       "2  720575940627738884  \n",
       "3  720575940627738884  \n",
       "4  720575940627738884  "
      ]
     },
     "metadata": {},
     "output_type": "display_data"
    }
   ],
   "source": [
    "# Creating the summary data frame\n",
    "proofread_synapses_df = pd.DataFrame()\n",
    "proofread_synapses_df['post_pt_position'] = points\n",
    "proofread_synapses_df['proofread_label'] = descriptions\n",
    "proofread_synapses_df['pre_id'] = pre\n",
    "proofread_synapses_df['post_id'] = post\n",
    "display(proofread_synapses_df.head())"
   ]
  },
  {
   "cell_type": "code",
   "execution_count": 249,
   "id": "8805110a",
   "metadata": {},
   "outputs": [
    {
     "name": "stdout",
     "output_type": "stream",
     "text": [
      "Number of URLs with no or faulty data: 0\n"
     ]
    },
    {
     "data": {
      "text/plain": [
       "[]"
      ]
     },
     "metadata": {},
     "output_type": "display_data"
    }
   ],
   "source": [
    "# Check if there was any faulta URL\n",
    "print(f'Number of URLs with no or faulty data: {len(faulty_URLs)}')\n",
    "display(faulty_URLs)"
   ]
  },
  {
   "cell_type": "code",
   "execution_count": 250,
   "id": "d30b6d19",
   "metadata": {},
   "outputs": [
    {
     "name": "stdout",
     "output_type": "stream",
     "text": [
      "Total number of rows: 1351\n",
      "Total number of links to analyze: 2\n",
      "Links for 0.15 % of the data \n",
      "Number of URLs with no/faulty data: 0\n",
      "Number of points with no description: 0\n"
     ]
    }
   ],
   "source": [
    "#Prints summaries of what is in the data\n",
    "print(f'Total number of rows: {len(df)}')\n",
    "print(f'Total number of links to analyze: {len(URL_ls)}')\n",
    "print(f'Links for {round((len(URL_ls)/len(df))*100,2)} % of the data ')\n",
    "print(f'Number of URLs with no/faulty data: {len(faulty_URLs)}')\n",
    "print(f\"Number of points with no description: {len(proofread_synapses_df[proofread_synapses_df['proofread_label']== 'NO DESCRIPTION YET'])}\")"
   ]
  },
  {
   "cell_type": "markdown",
   "id": "607a4abc",
   "metadata": {},
   "source": [
    "### 3. Quantifiying annotation proofread status"
   ]
  },
  {
   "cell_type": "code",
   "execution_count": 251,
   "id": "d9a49fd2",
   "metadata": {},
   "outputs": [
    {
     "data": {
      "text/plain": [
       "array(['true\\n', 'true', 'most likely true\\n', 'false (redundant)',\n",
       "       'false pos. (redundant)', 'false', 'most likely true',\n",
       "       'probably true', 'false negative', 'false negative\\n',\n",
       "       'maybe false negative',\n",
       "       'false positive (wouldn´t count this one)\\n', 'false negtive'],\n",
       "      dtype=object)"
      ]
     },
     "execution_count": 251,
     "metadata": {},
     "output_type": "execute_result"
    }
   ],
   "source": [
    "#Unique descriptions\n",
    "proofread_synapses_df['proofread_label'].unique()"
   ]
  },
  {
   "cell_type": "code",
   "execution_count": 252,
   "id": "d7c4d537",
   "metadata": {},
   "outputs": [],
   "source": [
    "#Aggregating descriptions\n",
    "\n",
    "new_description_ls = []\n",
    "for d in descriptions:\n",
    "    if 'maybe' in d.lower() or 'prob' in d.lower() or 'likely' in d.lower() or 'could' in d.lower() or 'buggy' in d.lower() or 'hard' in d.lower():\n",
    "        new_description_ls.append('N.I.') # N.I. = undecided\n",
    "    elif 'false neg'in d.lower():\n",
    "        new_description_ls.append('FN') # FN = False negative\n",
    "    elif 'ant' in d.lower(): #'ant' for different missspellings of redundant\n",
    "        new_description_ls.append('R') # R = False positive redundant\n",
    "    elif 'true' in d.lower():\n",
    "        new_description_ls.append('TP')# TP = True positive\n",
    "    elif 'false' in d.lower():\n",
    "        new_description_ls.append('FP') # FP = False positive\n",
    "    elif 'NO DESCRIPTION' in d:\n",
    "        new_description_ls.append('ND') # ND = 'NO DESCRIPTION YET'\n",
    "    else:\n",
    "        new_description_ls.append(d)\n",
    "    \n",
    "proofread_synapses_df['proofread_label'] = new_description_ls\n"
   ]
  },
  {
   "cell_type": "code",
   "execution_count": 253,
   "id": "909a3d67",
   "metadata": {},
   "outputs": [],
   "source": [
    "#Creating summary Data Frame\n",
    "\n",
    "#Groupying by label\n",
    "labels_df = pd.DataFrame(proofread_synapses_df.groupby('proofread_label').size())\n",
    "labels_df.rename(columns={0: 'count'}, inplace=True)\n",
    "\n",
    "#Adding data\n",
    "labels_df['percentatge'] = round((labels_df['count']/labels_df['count'].sum())*100,2)\n"
   ]
  },
  {
   "cell_type": "code",
   "execution_count": 254,
   "id": "aa756453",
   "metadata": {},
   "outputs": [
    {
     "data": {
      "text/html": [
       "<div>\n",
       "<style scoped>\n",
       "    .dataframe tbody tr th:only-of-type {\n",
       "        vertical-align: middle;\n",
       "    }\n",
       "\n",
       "    .dataframe tbody tr th {\n",
       "        vertical-align: top;\n",
       "    }\n",
       "\n",
       "    .dataframe thead th {\n",
       "        text-align: right;\n",
       "    }\n",
       "</style>\n",
       "<table border=\"1\" class=\"dataframe\">\n",
       "  <thead>\n",
       "    <tr style=\"text-align: right;\">\n",
       "      <th></th>\n",
       "      <th>count</th>\n",
       "      <th>percentatge</th>\n",
       "      <th>new_percentatge</th>\n",
       "    </tr>\n",
       "    <tr>\n",
       "      <th>proofread_label</th>\n",
       "      <th></th>\n",
       "      <th></th>\n",
       "      <th></th>\n",
       "    </tr>\n",
       "  </thead>\n",
       "  <tbody>\n",
       "    <tr>\n",
       "      <th>FN</th>\n",
       "      <td>13</td>\n",
       "      <td>15.66</td>\n",
       "      <td>16.25</td>\n",
       "    </tr>\n",
       "    <tr>\n",
       "      <th>FP</th>\n",
       "      <td>2</td>\n",
       "      <td>2.41</td>\n",
       "      <td>2.50</td>\n",
       "    </tr>\n",
       "    <tr>\n",
       "      <th>N.I.</th>\n",
       "      <td>6</td>\n",
       "      <td>7.23</td>\n",
       "      <td>7.50</td>\n",
       "    </tr>\n",
       "    <tr>\n",
       "      <th>R</th>\n",
       "      <td>3</td>\n",
       "      <td>3.61</td>\n",
       "      <td>0.00</td>\n",
       "    </tr>\n",
       "    <tr>\n",
       "      <th>TP</th>\n",
       "      <td>59</td>\n",
       "      <td>71.08</td>\n",
       "      <td>73.75</td>\n",
       "    </tr>\n",
       "  </tbody>\n",
       "</table>\n",
       "</div>"
      ],
      "text/plain": [
       "                 count  percentatge  new_percentatge\n",
       "proofread_label                                     \n",
       "FN                  13        15.66            16.25\n",
       "FP                   2         2.41             2.50\n",
       "N.I.                 6         7.23             7.50\n",
       "R                    3         3.61             0.00\n",
       "TP                  59        71.08            73.75"
      ]
     },
     "metadata": {},
     "output_type": "display_data"
    }
   ],
   "source": [
    "# Same data frame without redundant synapses\n",
    "NO_R_percentatge = []\n",
    "NO_R_total_count = labels_df['count'].sum() - labels_df.loc['R']['count']\n",
    "for idx, count in labels_df['count'].iteritems():\n",
    "    if idx == 'R':\n",
    "        NO_R_percentatge.append(0.0)\n",
    "        continue\n",
    "    \n",
    "    #Calculating percentage\n",
    "    temp_percent = round((count/NO_R_total_count)*100,2)\n",
    "    NO_R_percentatge.append(temp_percent)\n",
    "\n",
    "labels_df['new_percentatge']= NO_R_percentatge\n",
    "display(labels_df)"
   ]
  },
  {
   "cell_type": "code",
   "execution_count": 255,
   "id": "66f42049",
   "metadata": {},
   "outputs": [
    {
     "name": "stdout",
     "output_type": "stream",
     "text": [
      "The sensitivity is: 81.94\n"
     ]
    }
   ],
   "source": [
    "# Printing some information\n",
    "buhmann_sensitivity = round((labels_df.loc['TP']['count']/(labels_df.loc['TP']['count'] + labels_df.loc['FN']['count']))*100,2)\n",
    "print(f'The sensitivity is: {buhmann_sensitivity}' )"
   ]
  },
  {
   "cell_type": "code",
   "execution_count": 256,
   "id": "babed4a7",
   "metadata": {},
   "outputs": [
    {
     "data": {
      "text/plain": [
       "Text(0.5, 1.0, 'Buhmann synapses proofreading')"
      ]
     },
     "execution_count": 256,
     "metadata": {},
     "output_type": "execute_result"
    },
    {
     "data": {
      "image/png": "[encoded data removed]",
      "text/plain": [
       "<Figure size 850.394x425.197 with 2 Axes>"
      ]
     },
     "metadata": {
      "needs_background": "light"
     },
     "output_type": "display_data"
    }
   ],
   "source": [
    "# Plotting analysis\n",
    "fig, axs = plt.subplots(nrows= 1, ncols=2, figsize=(30*cm, 15*cm))\n",
    "fig.tight_layout(pad=6) # Adding some space between subplots\n",
    "\n",
    "#Axis: Counts\n",
    "sns.histplot(data = proofread_synapses_df, x = 'proofread_label', ax=axs[0], stat=\"count\", common_norm=False)\n",
    "axs[0].set_title('Buhmann synapses proofreading')\n",
    "\n",
    "#Another axis: density\n",
    "sns.histplot(data = proofread_synapses_df, x = 'proofread_label', ax=axs[1], stat=\"density\", common_norm=True)\n",
    "axs[1].set_title('Buhmann synapses proofreading')\n",
    "\n"
   ]
  },
  {
   "cell_type": "code",
   "execution_count": null,
   "id": "e954c896",
   "metadata": {},
   "outputs": [],
   "source": []
  }
 ],
 "metadata": {
  "kernelspec": {
   "display_name": "Python 3 (ipykernel)",
   "language": "python",
   "name": "python3"
  },
  "language_info": {
   "codemirror_mode": {
    "name": "ipython",
    "version": 3
   },
   "file_extension": ".py",
   "mimetype": "text/x-python",
   "name": "python",
   "nbconvert_exporter": "python",
   "pygments_lexer": "ipython3",
   "version": "3.7.4"
  }
 },
 "nbformat": 4,
 "nbformat_minor": 5
}
